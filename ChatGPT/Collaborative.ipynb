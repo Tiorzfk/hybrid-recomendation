{
 "cells": [
  {
   "cell_type": "code",
   "execution_count": 1,
   "id": "56e590e2",
   "metadata": {},
   "outputs": [
    {
     "data": {
      "text/plain": [
       "<surprise.prediction_algorithms.matrix_factorization.SVD at 0x1093ad720>"
      ]
     },
     "execution_count": 1,
     "metadata": {},
     "output_type": "execute_result"
    }
   ],
   "source": [
    "import pandas as pd\n",
    "from surprise import Reader, Dataset, SVD\n",
    "from surprise.model_selection import train_test_split\n",
    "\n",
    "# Load data rating\n",
    "df_ratings = pd.read_csv('../EBOOK-RATING-WITH-USERS-AND-TITLE.csv', delimiter=\";\")\n",
    "\n",
    "# Inisialisasi pembaca\n",
    "reader = Reader(rating_scale=(1, 5))\n",
    "\n",
    "# Load data rating ke dalam format Surprise\n",
    "data = Dataset.load_from_df(df_ratings[['user_id', 'id', 'rating']], reader)\n",
    "\n",
    "# Split data menjadi data latih dan data uji\n",
    "trainset, testset = train_test_split(data, test_size=0.2)\n",
    "\n",
    "# Inisialisasi model SVD\n",
    "model = SVD()\n",
    "\n",
    "# Melatih model menggunakan data latih\n",
    "model.fit(trainset)"
   ]
  },
  {
   "cell_type": "code",
   "execution_count": 7,
   "id": "a62cc697",
   "metadata": {},
   "outputs": [],
   "source": [
    "# Fungsi untuk mendapatkan rekomendasi collaborative-based\n",
    "def get_collaborative_recommendations(user_id, top_n=5):\n",
    "    try:\n",
    "        trainset.to_inner_uid(user_id)\n",
    "    except ValueError:\n",
    "        return []\n",
    "    \n",
    "    user_index = trainset.to_inner_uid(user_id)\n",
    "    user_ratings = trainset.ur[user_index]\n",
    "    user_unrated_books = [item for item in trainset.all_items() if item not in [id for (id, _) in user_ratings]]\n",
    "    predictions = [model.predict(user_id, id) for id in user_unrated_books]\n",
    "    top_predictions = sorted(predictions, key=lambda x: x.est, reverse=True)[:top_n]\n",
    "    top_book_ids = [trainset.to_raw_iid(prediction.iid) for prediction in top_predictions]\n",
    "    return df_ratings[df_ratings['id'].isin(top_book_ids)]['judul']"
   ]
  },
  {
   "cell_type": "code",
   "execution_count": 11,
   "id": "edbfcc83",
   "metadata": {},
   "outputs": [
    {
     "name": "stdout",
     "output_type": "stream",
     "text": [
      "15                       10 SECRETS OF SUCCESSFUL LEADERS\n",
      "16                       10 SECRETS OF SUCCESSFUL LEADERS\n",
      "17                       10 SECRETS OF SUCCESSFUL LEADERS\n",
      "18                       10 SECRETS OF SUCCESSFUL LEADERS\n",
      "19                       10 SECRETS OF SUCCESSFUL LEADERS\n",
      "                              ...                        \n",
      "1172    PERATURAN KEPALA STAF ANGKATAN DARAT NOMOR 12 ...\n",
      "1173    PERATURAN KEPALA STAF ANGKATAN DARAT NOMOR 12 ...\n",
      "1174    PERATURAN KEPALA STAF ANGKATAN DARAT NOMOR 12 ...\n",
      "1175    PERATURAN KEPALA STAF ANGKATAN DARAT NOMOR 12 ...\n",
      "1176    PERATURAN KEPALA STAF ANGKATAN DARAT NOMOR 12 ...\n",
      "Name: judul, Length: 69, dtype: object\n"
     ]
    }
   ],
   "source": [
    "# Contoh penggunaan\n",
    "collaborative_recommendations = get_collaborative_recommendations(2080, top_n=5)\n",
    "print(collaborative_recommendations)"
   ]
  },
  {
   "cell_type": "code",
   "execution_count": null,
   "id": "806fbdab",
   "metadata": {},
   "outputs": [],
   "source": []
  }
 ],
 "metadata": {
  "kernelspec": {
   "display_name": "Python 3 (ipykernel)",
   "language": "python",
   "name": "python3"
  },
  "language_info": {
   "codemirror_mode": {
    "name": "ipython",
    "version": 3
   },
   "file_extension": ".py",
   "mimetype": "text/x-python",
   "name": "python",
   "nbconvert_exporter": "python",
   "pygments_lexer": "ipython3",
   "version": "3.10.9"
  }
 },
 "nbformat": 4,
 "nbformat_minor": 5
}
