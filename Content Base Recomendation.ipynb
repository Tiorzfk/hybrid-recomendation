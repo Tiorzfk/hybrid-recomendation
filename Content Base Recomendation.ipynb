{
 "cells": [
  {
   "cell_type": "code",
   "execution_count": 16,
   "id": "1f03e4f1",
   "metadata": {},
   "outputs": [
    {
     "data": {
      "text/html": [
       "<div>\n",
       "<style scoped>\n",
       "    .dataframe tbody tr th:only-of-type {\n",
       "        vertical-align: middle;\n",
       "    }\n",
       "\n",
       "    .dataframe tbody tr th {\n",
       "        vertical-align: top;\n",
       "    }\n",
       "\n",
       "    .dataframe thead th {\n",
       "        text-align: right;\n",
       "    }\n",
       "</style>\n",
       "<table border=\"1\" class=\"dataframe\">\n",
       "  <thead>\n",
       "    <tr style=\"text-align: right;\">\n",
       "      <th></th>\n",
       "      <th>id</th>\n",
       "      <th>user_id</th>\n",
       "      <th>judul</th>\n",
       "      <th>tahun_terbit</th>\n",
       "      <th>deskripsi</th>\n",
       "      <th>created_at</th>\n",
       "    </tr>\n",
       "  </thead>\n",
       "  <tbody>\n",
       "    <tr>\n",
       "      <th>0</th>\n",
       "      <td>2381</td>\n",
       "      <td>221</td>\n",
       "      <td>WAWASAN NUSANTARA (DALAM PENDIDIKAN DAN KEBUDA...</td>\n",
       "      <td>1981</td>\n",
       "      <td>WAWASAN NUSANTARA (DALAM PENDIDIKAN DAN KEBUDA...</td>\n",
       "      <td>21/02/22 14.04</td>\n",
       "    </tr>\n",
       "    <tr>\n",
       "      <th>1</th>\n",
       "      <td>3407</td>\n",
       "      <td>526</td>\n",
       "      <td>Monumen Pancasila Sakti</td>\n",
       "      <td>1984</td>\n",
       "      <td>Monumen Pancasila Sakti Penjelasan tentang Mon...</td>\n",
       "      <td>21/02/22 14.05</td>\n",
       "    </tr>\n",
       "    <tr>\n",
       "      <th>2</th>\n",
       "      <td>1436</td>\n",
       "      <td>522</td>\n",
       "      <td>113 OPTIMALISASI KEPEMIMPINAN DANDIM DALAM RAN...</td>\n",
       "      <td>2020</td>\n",
       "      <td>Taskap yang dibuat dengan Judul 113 OPTIMALISA...</td>\n",
       "      <td>23/02/22 11.46</td>\n",
       "    </tr>\n",
       "    <tr>\n",
       "      <th>3</th>\n",
       "      <td>1436</td>\n",
       "      <td>276</td>\n",
       "      <td>113 OPTIMALISASI KEPEMIMPINAN DANDIM DALAM RAN...</td>\n",
       "      <td>2020</td>\n",
       "      <td>Taskap yang dibuat dengan Judul 113 OPTIMALISA...</td>\n",
       "      <td>23/02/22 11.46</td>\n",
       "    </tr>\n",
       "    <tr>\n",
       "      <th>4</th>\n",
       "      <td>1427</td>\n",
       "      <td>522</td>\n",
       "      <td>104 OPTIMALISASI KEMAMPUAN SATGASPAMTAS RI-PNG...</td>\n",
       "      <td>2020</td>\n",
       "      <td>Taskap yang dibuat dengan Judul 104 OPTIMALISA...</td>\n",
       "      <td>23/02/22 11.55</td>\n",
       "    </tr>\n",
       "  </tbody>\n",
       "</table>\n",
       "</div>"
      ],
      "text/plain": [
       "     id  user_id                                              judul  \\\n",
       "0  2381      221  WAWASAN NUSANTARA (DALAM PENDIDIKAN DAN KEBUDA...   \n",
       "1  3407      526                            Monumen Pancasila Sakti   \n",
       "2  1436      522  113 OPTIMALISASI KEPEMIMPINAN DANDIM DALAM RAN...   \n",
       "3  1436      276  113 OPTIMALISASI KEPEMIMPINAN DANDIM DALAM RAN...   \n",
       "4  1427      522  104 OPTIMALISASI KEMAMPUAN SATGASPAMTAS RI-PNG...   \n",
       "\n",
       "   tahun_terbit                                          deskripsi  \\\n",
       "0          1981  WAWASAN NUSANTARA (DALAM PENDIDIKAN DAN KEBUDA...   \n",
       "1          1984  Monumen Pancasila Sakti Penjelasan tentang Mon...   \n",
       "2          2020  Taskap yang dibuat dengan Judul 113 OPTIMALISA...   \n",
       "3          2020  Taskap yang dibuat dengan Judul 113 OPTIMALISA...   \n",
       "4          2020  Taskap yang dibuat dengan Judul 104 OPTIMALISA...   \n",
       "\n",
       "       created_at  \n",
       "0  21/02/22 14.04  \n",
       "1  21/02/22 14.05  \n",
       "2  23/02/22 11.46  \n",
       "3  23/02/22 11.46  \n",
       "4  23/02/22 11.55  "
      ]
     },
     "execution_count": 16,
     "metadata": {},
     "output_type": "execute_result"
    }
   ],
   "source": [
    "import pandas as pd\n",
    "import numpy as np\n",
    "from sklearn.metrics.pairwise import cosine_similarity\n",
    "from sklearn.feature_extraction.text import TfidfVectorizer\n",
    "from nltk.corpus import stopwords\n",
    "import re\n",
    "import random\n",
    "\n",
    "df = pd.read_csv(\"EBOOK-USER-LIKE.csv\", delimiter=\";\")\n",
    "df.head()"
   ]
  },
  {
   "cell_type": "code",
   "execution_count": 17,
   "id": "d02a7e57",
   "metadata": {},
   "outputs": [
    {
     "name": "stdout",
     "output_type": "stream",
     "text": [
      "<class 'pandas.core.frame.DataFrame'>\n",
      "RangeIndex: 1251 entries, 0 to 1250\n",
      "Data columns (total 6 columns):\n",
      " #   Column        Non-Null Count  Dtype \n",
      "---  ------        --------------  ----- \n",
      " 0   id            1251 non-null   int64 \n",
      " 1   user_id       1251 non-null   int64 \n",
      " 2   judul         1251 non-null   object\n",
      " 3   tahun_terbit  1251 non-null   int64 \n",
      " 4   deskripsi     1235 non-null   object\n",
      " 5   created_at    1213 non-null   object\n",
      "dtypes: int64(3), object(3)\n",
      "memory usage: 58.8+ KB\n"
     ]
    }
   ],
   "source": [
    "df.describe()\n",
    "df.info()"
   ]
  },
  {
   "cell_type": "code",
   "execution_count": 18,
   "id": "72607a5d",
   "metadata": {},
   "outputs": [],
   "source": [
    "def print_description(index):\n",
    "    example = df[df.index == index][['deskripsi', 'judul', 'user_id']].values[0]\n",
    "    if len(example) > 0:\n",
    "        print(example[0])\n",
    "        print('Nama:', example[1]) \n",
    "        print('User ID:', example[2]) "
   ]
  },
  {
   "cell_type": "code",
   "execution_count": 19,
   "id": "ec96e3f8",
   "metadata": {},
   "outputs": [
    {
     "name": "stdout",
     "output_type": "stream",
     "text": [
      "WAWASAN NUSANTARA (DALAM PENDIDIKAN DAN KEBUDAYAAN) BUKU III\n",
      "Nama: WAWASAN NUSANTARA (DALAM PENDIDIKAN DAN KEBUDAYAAN) BUKU III\n",
      "User ID: 221\n"
     ]
    }
   ],
   "source": [
    "print_description(0)"
   ]
  },
  {
   "cell_type": "code",
   "execution_count": 21,
   "id": "18945d60",
   "metadata": {},
   "outputs": [
    {
     "name": "stderr",
     "output_type": "stream",
     "text": [
      "[nltk_data] Downloading package stopwords to\n",
      "[nltk_data]     /Users/macbookpro2020m1/nltk_data...\n",
      "[nltk_data]   Package stopwords is already up-to-date!\n"
     ]
    }
   ],
   "source": [
    "import nltk\n",
    "nltk.download('stopwords')\n",
    "\n",
    "#Text Preprocessing\n",
    "clean_spcl = re.compile('[/(){}\\[\\]\\|@,;]')\n",
    "clean_symbol = re.compile('[^0-9a-z #+_]')\n",
    "stopworda = set(stopwords.words('english'))\n",
    "\n",
    "def clean_text(text):\n",
    "    \"\"\"\n",
    "        text: a string\n",
    "        \n",
    "        return: modified initial string\n",
    "    \"\"\"\n",
    "    text = str(text)\n",
    "    text = text.lower() # lowercase text\n",
    "    text = clean_spcl.sub(' ', text)\n",
    "    text = clean_symbol.sub('', text)\n",
    "    text = ' '.join(word for word in text.split() if word not in stopworda) # hapus stopword dari kolom deskripsi\n",
    "    return text\n",
    "    \n",
    "df['desc_clean'] = df['deskripsi'].apply(clean_text)"
   ]
  },
  {
   "cell_type": "code",
   "execution_count": 22,
   "id": "71f33863",
   "metadata": {},
   "outputs": [
    {
     "data": {
      "text/html": [
       "<div>\n",
       "<style scoped>\n",
       "    .dataframe tbody tr th:only-of-type {\n",
       "        vertical-align: middle;\n",
       "    }\n",
       "\n",
       "    .dataframe tbody tr th {\n",
       "        vertical-align: top;\n",
       "    }\n",
       "\n",
       "    .dataframe thead th {\n",
       "        text-align: right;\n",
       "    }\n",
       "</style>\n",
       "<table border=\"1\" class=\"dataframe\">\n",
       "  <thead>\n",
       "    <tr style=\"text-align: right;\">\n",
       "      <th></th>\n",
       "      <th>id</th>\n",
       "      <th>user_id</th>\n",
       "      <th>judul</th>\n",
       "      <th>tahun_terbit</th>\n",
       "      <th>deskripsi</th>\n",
       "      <th>created_at</th>\n",
       "      <th>desc_clean</th>\n",
       "    </tr>\n",
       "  </thead>\n",
       "  <tbody>\n",
       "    <tr>\n",
       "      <th>0</th>\n",
       "      <td>2381</td>\n",
       "      <td>221</td>\n",
       "      <td>WAWASAN NUSANTARA (DALAM PENDIDIKAN DAN KEBUDA...</td>\n",
       "      <td>1981</td>\n",
       "      <td>WAWASAN NUSANTARA (DALAM PENDIDIKAN DAN KEBUDA...</td>\n",
       "      <td>21/02/22 14.04</td>\n",
       "      <td>wawasan nusantara dalam pendidikan dan kebuday...</td>\n",
       "    </tr>\n",
       "    <tr>\n",
       "      <th>1</th>\n",
       "      <td>3407</td>\n",
       "      <td>526</td>\n",
       "      <td>Monumen Pancasila Sakti</td>\n",
       "      <td>1984</td>\n",
       "      <td>Monumen Pancasila Sakti Penjelasan tentang Mon...</td>\n",
       "      <td>21/02/22 14.05</td>\n",
       "      <td>monumen pancasila sakti penjelasan tentang mon...</td>\n",
       "    </tr>\n",
       "    <tr>\n",
       "      <th>2</th>\n",
       "      <td>1436</td>\n",
       "      <td>522</td>\n",
       "      <td>113 OPTIMALISASI KEPEMIMPINAN DANDIM DALAM RAN...</td>\n",
       "      <td>2020</td>\n",
       "      <td>Taskap yang dibuat dengan Judul 113 OPTIMALISA...</td>\n",
       "      <td>23/02/22 11.46</td>\n",
       "      <td>taskap yang dibuat dengan judul 113 optimalisa...</td>\n",
       "    </tr>\n",
       "    <tr>\n",
       "      <th>3</th>\n",
       "      <td>1436</td>\n",
       "      <td>276</td>\n",
       "      <td>113 OPTIMALISASI KEPEMIMPINAN DANDIM DALAM RAN...</td>\n",
       "      <td>2020</td>\n",
       "      <td>Taskap yang dibuat dengan Judul 113 OPTIMALISA...</td>\n",
       "      <td>23/02/22 11.46</td>\n",
       "      <td>taskap yang dibuat dengan judul 113 optimalisa...</td>\n",
       "    </tr>\n",
       "    <tr>\n",
       "      <th>4</th>\n",
       "      <td>1427</td>\n",
       "      <td>522</td>\n",
       "      <td>104 OPTIMALISASI KEMAMPUAN SATGASPAMTAS RI-PNG...</td>\n",
       "      <td>2020</td>\n",
       "      <td>Taskap yang dibuat dengan Judul 104 OPTIMALISA...</td>\n",
       "      <td>23/02/22 11.55</td>\n",
       "      <td>taskap yang dibuat dengan judul 104 optimalisa...</td>\n",
       "    </tr>\n",
       "  </tbody>\n",
       "</table>\n",
       "</div>"
      ],
      "text/plain": [
       "     id  user_id                                              judul  \\\n",
       "0  2381      221  WAWASAN NUSANTARA (DALAM PENDIDIKAN DAN KEBUDA...   \n",
       "1  3407      526                            Monumen Pancasila Sakti   \n",
       "2  1436      522  113 OPTIMALISASI KEPEMIMPINAN DANDIM DALAM RAN...   \n",
       "3  1436      276  113 OPTIMALISASI KEPEMIMPINAN DANDIM DALAM RAN...   \n",
       "4  1427      522  104 OPTIMALISASI KEMAMPUAN SATGASPAMTAS RI-PNG...   \n",
       "\n",
       "   tahun_terbit                                          deskripsi  \\\n",
       "0          1981  WAWASAN NUSANTARA (DALAM PENDIDIKAN DAN KEBUDA...   \n",
       "1          1984  Monumen Pancasila Sakti Penjelasan tentang Mon...   \n",
       "2          2020  Taskap yang dibuat dengan Judul 113 OPTIMALISA...   \n",
       "3          2020  Taskap yang dibuat dengan Judul 113 OPTIMALISA...   \n",
       "4          2020  Taskap yang dibuat dengan Judul 104 OPTIMALISA...   \n",
       "\n",
       "       created_at                                         desc_clean  \n",
       "0  21/02/22 14.04  wawasan nusantara dalam pendidikan dan kebuday...  \n",
       "1  21/02/22 14.05  monumen pancasila sakti penjelasan tentang mon...  \n",
       "2  23/02/22 11.46  taskap yang dibuat dengan judul 113 optimalisa...  \n",
       "3  23/02/22 11.46  taskap yang dibuat dengan judul 113 optimalisa...  \n",
       "4  23/02/22 11.55  taskap yang dibuat dengan judul 104 optimalisa...  "
      ]
     },
     "execution_count": 22,
     "metadata": {},
     "output_type": "execute_result"
    }
   ],
   "source": [
    "df.head()"
   ]
  },
  {
   "cell_type": "code",
   "execution_count": 23,
   "id": "1b411e77",
   "metadata": {},
   "outputs": [],
   "source": [
    "# Deskripsi kedua (Setelah preprocessing)\n",
    "def print_description_clean(index):\n",
    "    example = df[df.index == index][['desc_clean', 'judul', 'user_id']].values[0]\n",
    "    if len(example) > 0:\n",
    "        print(example[0])\n",
    "        print('Judul:', example[1])\n",
    "        print('User ID:', example[2])"
   ]
  },
  {
   "cell_type": "code",
   "execution_count": 24,
   "id": "81fab479",
   "metadata": {},
   "outputs": [
    {
     "name": "stdout",
     "output_type": "stream",
     "text": [
      "wawasan nusantara dalam pendidikan dan kebudayaan buku iii\n",
      "Judul: WAWASAN NUSANTARA (DALAM PENDIDIKAN DAN KEBUDAYAAN) BUKU III\n",
      "User ID: 221\n"
     ]
    }
   ],
   "source": [
    "print_description_clean(0)"
   ]
  },
  {
   "cell_type": "code",
   "execution_count": 25,
   "id": "d389a81e",
   "metadata": {},
   "outputs": [
    {
     "data": {
      "text/plain": [
       "array([[1.        , 0.00202217, 0.00360214, ..., 0.        , 0.        ,\n",
       "        0.        ],\n",
       "       [0.00202217, 1.        , 0.        , ..., 0.        , 0.        ,\n",
       "        0.        ],\n",
       "       [0.00360214, 0.        , 1.        , ..., 0.        , 0.08532565,\n",
       "        0.        ],\n",
       "       ...,\n",
       "       [0.        , 0.        , 0.        , ..., 1.        , 0.        ,\n",
       "        0.        ],\n",
       "       [0.        , 0.        , 0.08532565, ..., 0.        , 1.        ,\n",
       "        0.        ],\n",
       "       [0.        , 0.        , 0.        , ..., 0.        , 0.        ,\n",
       "        1.        ]])"
      ]
     },
     "execution_count": 25,
     "metadata": {},
     "output_type": "execute_result"
    }
   ],
   "source": [
    "#TF-IDF & Cosine Similarity\n",
    "df.set_index('judul', inplace=True)\n",
    "tf = TfidfVectorizer(analyzer='word', ngram_range=(1, 3), min_df=0, stop_words='english')\n",
    "tfidf_matrix = tf.fit_transform(df['desc_clean'])\n",
    "cos_sim = cosine_similarity(tfidf_matrix, tfidf_matrix)\n",
    "cos_sim"
   ]
  },
  {
   "cell_type": "code",
   "execution_count": 26,
   "id": "73fe960a",
   "metadata": {},
   "outputs": [
    {
     "data": {
      "text/plain": [
       "0     WAWASAN NUSANTARA (DALAM PENDIDIKAN DAN KEBUDA...\n",
       "1                               Monumen Pancasila Sakti\n",
       "2     113 OPTIMALISASI KEPEMIMPINAN DANDIM DALAM RAN...\n",
       "3     113 OPTIMALISASI KEPEMIMPINAN DANDIM DALAM RAN...\n",
       "4     104 OPTIMALISASI KEMAMPUAN SATGASPAMTAS RI-PNG...\n",
       "5     104 OPTIMALISASI KEMAMPUAN SATGASPAMTAS RI-PNG...\n",
       "6                                 PASUKAN ELIT DI DUNIA\n",
       "7                Hafal Al Quran Dan Lancar Seumur Hidup\n",
       "8              Obrolan Nusantara: Menyambut Indonesia\"\"\n",
       "9                                     10 Kisah Genocide\n",
       "10    Organisasi dan Tugas Direktorat Kesehatan Angk...\n",
       "11                                 Manajemen Logistik 2\n",
       "12    Organisasi dan Tugas Peralatan kodam (Orgas Pa...\n",
       "13    Organisasi dan Tugas Direktorat Peralatan Angk...\n",
       "14    404 PERAN SATUAN PERALATAN DALAM PEMELIHARAAN ...\n",
       "15                        BUKU PETUNJUK INDUK PERALATAN\n",
       "16                                   Ekonomi Kerakyatan\n",
       "17    Organisasi dan Tugas Perhubungan Komando Daera...\n",
       "18    Organisasi dan Tugas Detasemen Perhubungan Kor...\n",
       "19                     10 SECRETS OF SUCCESSFUL LEADERS\n",
       "20             Obrolan Nusantara: Menyambut Indonesia\"\"\n",
       "21                                    10 Kisah Genocide\n",
       "22    1453 Detik-Detik Jatuhnya Konstantinopel ke Ta...\n",
       "23             Obrolan Nusantara: Menyambut Indonesia\"\"\n",
       "24                                    10 Kisah Genocide\n",
       "25       10 November 45 Mengapa Inggris Membom Surabaya\n",
       "26       10 November 45 Mengapa Inggris Membom Surabaya\n",
       "27       10 November 45 Mengapa Inggris Membom Surabaya\n",
       "28    Pak Dirman Memimpin Perang Rakyat Semesta (Ger...\n",
       "29             Obrolan Nusantara: Menyambut Indonesia\"\"\n",
       "30             Obrolan Nusantara: Menyambut Indonesia\"\"\n",
       "31          Emotional Intelligence Kecerdasan Emosional\n",
       "32    AKU MELAWAN TERORIS SEBUAH KEDUSTAAN ATAS NAMA...\n",
       "33    Lubang Lubang Pembantaian Petualangan PKI di M...\n",
       "34                                   Ekonomi Kerakyatan\n",
       "35                                    Darurat Terorisme\n",
       "36                             DERADIKALISASI TERORISME\n",
       "37                                    10 Kisah Genocide\n",
       "38                                    10 Kisah Genocide\n",
       "39    21 Menit Paling Bermakna dalam Hari - Hari Pem...\n",
       "40                                    10 Kisah Genocide\n",
       "41                            PENGANTAR ILMU KOMUNIKASI\n",
       "42    Pak Dirman Memimpin Perang Rakyat Semesta (Ger...\n",
       "43                                   Ekonomi Kerakyatan\n",
       "44                                 Manajemen Logistik 2\n",
       "45                                   Ekonomi Kerakyatan\n",
       "46                             Deradikalisasi Nusantara\n",
       "47     Implementasi Peran TNI Dalam Mengatasi Terorisme\n",
       "48    Seni Berbicara Pada Anak Panduan Mendidik Anak...\n",
       "49    Jalan Baru Kepemimpinan & Pendidikan Jawaban A...\n",
       "Name: judul, dtype: object"
      ]
     },
     "execution_count": 26,
     "metadata": {},
     "output_type": "execute_result"
    }
   ],
   "source": [
    "# Set index utama di kolom 'judul'\n",
    "indices = pd.Series(df.index)\n",
    "indices[:50]"
   ]
  },
  {
   "cell_type": "code",
   "execution_count": 50,
   "id": "c7cc5211",
   "metadata": {},
   "outputs": [],
   "source": [
    "def recommendations(name, cos_sim = cos_sim):\n",
    "    \n",
    "    recommended_book = []\n",
    "    \n",
    "    # Mengambil nama hotel berdasarkan variabel indicies\n",
    "    idx = indices[indices == name].index[0]\n",
    "\n",
    "    # Membuat series berdasarkan skor kesamaan\n",
    "    score_series = pd.Series(cos_sim[idx]).sort_values(ascending = False)\n",
    "\n",
    "    # mengambil index dan dibuat 10 baris rekomendasi terbaik\n",
    "    top_10_indexes = list(score_series.iloc[1:11].index)\n",
    "    \n",
    "    for i in top_10_indexes:\n",
    "        recommended_book.append(list(df.index)[i])\n",
    "        \n",
    "    return recommended_book"
   ]
  },
  {
   "cell_type": "code",
   "execution_count": 54,
   "id": "f5e9bef1",
   "metadata": {},
   "outputs": [
    {
     "data": {
      "text/plain": [
       "['Darurat Terorisme',\n",
       " '131 OPTIMALISASI KEMAMPUAN DENINTELDAM IV DIPONEGORO DALAM RANGKA MENCEGAH AKSI TERORISME',\n",
       " '60 OPTIMALISASI PERAN KODIM DALAM MENGATASI AKSI TERORISME DI INDONESIA',\n",
       " 'Hukum Internasional Suatu Pengantar',\n",
       " 'Hukum Internasional Suatu Pengantar',\n",
       " 'Politik Identitas',\n",
       " '86 OPTIMALISASI PERAN PERWIRA HUKUM TNI AD DALAM PENYELNGGARAAN DUKUNG HUKUM PADA TUGAS OPERASI MILITER',\n",
       " 'TERORISME SEBAGAI KEJAHATAN TERHADAP KEMANUSIAAN',\n",
       " 'Terorisme ideologi penebar ketakutan',\n",
       " '324 OPTIMALISASI PERAN KOMANDAN SATUAN GUAN MENCEGAH TERJADINYA TINDAK PELANGGARAN HUKUM']"
      ]
     },
     "execution_count": 54,
     "metadata": {},
     "output_type": "execute_result"
    }
   ],
   "source": [
    "recommendations('Darurat Terorisme')"
   ]
  },
  {
   "cell_type": "code",
   "execution_count": null,
   "id": "ae5af615",
   "metadata": {},
   "outputs": [],
   "source": []
  },
  {
   "cell_type": "code",
   "execution_count": null,
   "id": "c478bf77",
   "metadata": {},
   "outputs": [],
   "source": []
  }
 ],
 "metadata": {
  "kernelspec": {
   "display_name": "Python 3 (ipykernel)",
   "language": "python",
   "name": "python3"
  },
  "language_info": {
   "codemirror_mode": {
    "name": "ipython",
    "version": 3
   },
   "file_extension": ".py",
   "mimetype": "text/x-python",
   "name": "python",
   "nbconvert_exporter": "python",
   "pygments_lexer": "ipython3",
   "version": "3.10.9"
  }
 },
 "nbformat": 4,
 "nbformat_minor": 5
}
