{
 "cells": [
  {
   "cell_type": "code",
   "execution_count": 32,
   "id": "4dd6943c",
   "metadata": {},
   "outputs": [
    {
     "name": "stdout",
     "output_type": "stream",
     "text": [
      "     id                                              judul  \\\n",
      "0  1197  EDEN IN THE EAST SURGA DI TIMUR,STEPHEN OPPENH...   \n",
      "1  1209  24416 NASKAH DEPARTEMEN TENTANG MATA KULIAH MA...   \n",
      "2  1210  24418 NASKAH DEPARTEMEN TENTANG MATA KULIAH MA...   \n",
      "3  1234  BUKU PETUNJUK PELAKSANAAN PEDOMAN PENGAMANAN P...   \n",
      "4  1236  BUKU PETUNJUK PELAKSANAAN PEDOMAN PENYIAPAN SA...   \n",
      "\n",
      "                                           deskripsi  user_id  rating  \n",
      "0  Buku ini diterbitkan untuk menambah wawasan pa...      311     5.0  \n",
      "1  Buku ini diterbitkan untuk menambah wawasan pa...     1631     4.0  \n",
      "2  Buku ini diterbitkan untuk menambah wawasan pa...     1631     5.0  \n",
      "3  Buku ini diterbitkan untuk menambah wawasan pa...     1994     2.0  \n",
      "4  Buku ini diterbitkan untuk menambah wawasan pa...     3090     5.0  \n"
     ]
    }
   ],
   "source": [
    "import pandas as pd\n",
    "data = pd.read_csv(\"../EBOOK-RATING-WITH-USERS-AND-TITLE.csv\", delimiter=\";\")\n",
    "print(data.head())"
   ]
  },
  {
   "cell_type": "code",
   "execution_count": 35,
   "id": "16e61d0b",
   "metadata": {},
   "outputs": [],
   "source": [
    "from surprise import Dataset, Reader, SVD\n",
    "from sklearn.feature_extraction.text import TfidfVectorizer\n",
    "from sklearn.metrics.pairwise import linear_kernel"
   ]
  },
  {
   "cell_type": "code",
   "execution_count": 41,
   "id": "f27034d0",
   "metadata": {},
   "outputs": [
    {
     "ename": "TypeError",
     "evalue": "'DatasetAutoFolds' object is not subscriptable",
     "output_type": "error",
     "traceback": [
      "\u001b[0;31m---------------------------------------------------------------------------\u001b[0m",
      "\u001b[0;31mTypeError\u001b[0m                                 Traceback (most recent call last)",
      "Cell \u001b[0;32mIn[41], line 1\u001b[0m\n\u001b[0;32m----> 1\u001b[0m content_df \u001b[38;5;241m=\u001b[39m \u001b[43mdata\u001b[49m\u001b[43m[\u001b[49m\u001b[43m[\u001b[49m\u001b[38;5;124;43m'\u001b[39;49m\u001b[38;5;124;43mid\u001b[39;49m\u001b[38;5;124;43m'\u001b[39;49m\u001b[43m,\u001b[49m\u001b[43m \u001b[49m\u001b[38;5;124;43m'\u001b[39;49m\u001b[38;5;124;43mjudul\u001b[39;49m\u001b[38;5;124;43m'\u001b[39;49m\u001b[43m,\u001b[49m\u001b[43m \u001b[49m\u001b[38;5;124;43m'\u001b[39;49m\u001b[38;5;124;43mdeskripsi\u001b[39;49m\u001b[38;5;124;43m'\u001b[39;49m\u001b[43m]\u001b[49m\u001b[43m]\u001b[49m\n\u001b[1;32m      2\u001b[0m content_df[\u001b[38;5;124m'\u001b[39m\u001b[38;5;124mContent\u001b[39m\u001b[38;5;124m'\u001b[39m] \u001b[38;5;241m=\u001b[39m content_df\u001b[38;5;241m.\u001b[39mapply(\u001b[38;5;28;01mlambda\u001b[39;00m row: \u001b[38;5;124m'\u001b[39m\u001b[38;5;124m \u001b[39m\u001b[38;5;124m'\u001b[39m\u001b[38;5;241m.\u001b[39mjoin(row\u001b[38;5;241m.\u001b[39mdropna()\u001b[38;5;241m.\u001b[39mastype(\u001b[38;5;28mstr\u001b[39m)), axis\u001b[38;5;241m=\u001b[39m\u001b[38;5;241m1\u001b[39m)\n",
      "\u001b[0;31mTypeError\u001b[0m: 'DatasetAutoFolds' object is not subscriptable"
     ]
    }
   ],
   "source": [
    "content_df = data[['id', 'judul', 'deskripsi']]\n",
    "content_df['Content'] = content_df.apply(lambda row: ' '.join(row.dropna().astype(str)), axis=1)"
   ]
  },
  {
   "cell_type": "code",
   "execution_count": 38,
   "id": "4973c902",
   "metadata": {},
   "outputs": [
    {
     "ename": "TypeError",
     "evalue": "'DatasetAutoFolds' object is not subscriptable",
     "output_type": "error",
     "traceback": [
      "\u001b[0;31m---------------------------------------------------------------------------\u001b[0m",
      "\u001b[0;31mTypeError\u001b[0m                                 Traceback (most recent call last)",
      "Cell \u001b[0;32mIn[38], line 8\u001b[0m\n\u001b[1;32m      5\u001b[0m content_similarity \u001b[38;5;241m=\u001b[39m linear_kernel(content_matrix, content_matrix)\n\u001b[1;32m      7\u001b[0m reader \u001b[38;5;241m=\u001b[39m Reader(rating_scale\u001b[38;5;241m=\u001b[39m(\u001b[38;5;241m1\u001b[39m, \u001b[38;5;241m5\u001b[39m))\n\u001b[0;32m----> 8\u001b[0m data \u001b[38;5;241m=\u001b[39m Dataset\u001b[38;5;241m.\u001b[39mload_from_df(\u001b[43mdata\u001b[49m\u001b[43m[\u001b[49m\u001b[43m[\u001b[49m\u001b[38;5;124;43m'\u001b[39;49m\u001b[38;5;124;43muser_id\u001b[39;49m\u001b[38;5;124;43m'\u001b[39;49m\u001b[43m,\u001b[49m\u001b[43m \u001b[49m\n\u001b[1;32m      9\u001b[0m \u001b[43m                                  \u001b[49m\u001b[38;5;124;43m'\u001b[39;49m\u001b[38;5;124;43mid\u001b[39;49m\u001b[38;5;124;43m'\u001b[39;49m\u001b[43m,\u001b[49m\u001b[43m \u001b[49m\n\u001b[1;32m     10\u001b[0m \u001b[43m                                  \u001b[49m\u001b[38;5;124;43m'\u001b[39;49m\u001b[38;5;124;43mrating\u001b[39;49m\u001b[38;5;124;43m'\u001b[39;49m\u001b[43m]\u001b[49m\u001b[43m]\u001b[49m, reader)\n\u001b[1;32m     12\u001b[0m \u001b[38;5;28;01mdef\u001b[39;00m \u001b[38;5;21mget_content_based_recommendations\u001b[39m(product_id, top_n):\n\u001b[1;32m     13\u001b[0m     index \u001b[38;5;241m=\u001b[39m content_df[content_df[\u001b[38;5;124m'\u001b[39m\u001b[38;5;124mid\u001b[39m\u001b[38;5;124m'\u001b[39m] \u001b[38;5;241m==\u001b[39m product_id]\u001b[38;5;241m.\u001b[39mindex[\u001b[38;5;241m0\u001b[39m]\n",
      "\u001b[0;31mTypeError\u001b[0m: 'DatasetAutoFolds' object is not subscriptable"
     ]
    }
   ],
   "source": [
    "# Use TF-IDF vectorizer to convert content into a matrix of TF-IDF features\n",
    "tfidf_vectorizer = TfidfVectorizer()\n",
    "content_matrix = tfidf_vectorizer.fit_transform(content_df['Content'])\n",
    "\n",
    "content_similarity = linear_kernel(content_matrix, content_matrix)\n",
    "\n",
    "reader = Reader(rating_scale=(1, 5))\n",
    "data = Dataset.load_from_df(data[['user_id', \n",
    "                                  'id', \n",
    "                                  'rating']], reader)\n",
    "\n",
    "def get_content_based_recommendations(product_id, top_n):\n",
    "    index = content_df[content_df['id'] == product_id].index[0]\n",
    "    similarity_scores = content_similarity[index]\n",
    "    similar_indices = similarity_scores.argsort()[::-1][1:top_n + 1]\n",
    "    recommendations = content_df.loc[similar_indices, 'id'].values\n",
    "    return recommendations"
   ]
  },
  {
   "cell_type": "code",
   "execution_count": 45,
   "id": "b13e4e3f",
   "metadata": {},
   "outputs": [
    {
     "data": {
      "text/plain": [
       "array([1268])"
      ]
     },
     "execution_count": 45,
     "metadata": {},
     "output_type": "execute_result"
    }
   ],
   "source": [
    "get_content_based_recommendations(1236, 3)"
   ]
  },
  {
   "cell_type": "code",
   "execution_count": 47,
   "id": "6b6ddf4d",
   "metadata": {},
   "outputs": [],
   "source": [
    "algo = SVD()\n",
    "trainset = data.build_full_trainset()\n",
    "algo.fit(trainset)\n",
    "\n",
    "def get_collaborative_filtering_recommendations(user_id, top_n):\n",
    "    testset = trainset.build_anti_testset()\n",
    "    testset = filter(lambda x: x[0] == user_id, testset)\n",
    "    predictions = algo.test(testset)\n",
    "    predictions.sort(key=lambda x: x.est, reverse=True)\n",
    "    recommendations = [prediction.iid for prediction in predictions[:top_n]]\n",
    "    return recommendations"
   ]
  },
  {
   "cell_type": "code",
   "execution_count": 48,
   "id": "fda57fc8",
   "metadata": {},
   "outputs": [],
   "source": [
    "def get_hybrid_recommendations(user_id, product_id, top_n):\n",
    "    content_based_recommendations = get_content_based_recommendations(product_id, top_n)\n",
    "    collaborative_filtering_recommendations = get_collaborative_filtering_recommendations(user_id, top_n)\n",
    "    hybrid_recommendations = list(set(content_based_recommendations + collaborative_filtering_recommendations))\n",
    "    return hybrid_recommendations[:top_n]"
   ]
  },
  {
   "cell_type": "code",
   "execution_count": 50,
   "id": "59bfb773",
   "metadata": {},
   "outputs": [
    {
     "data": {
      "text/plain": [
       "[2691, 2727, 2700, 5646, 2738, 2675, 2711, 2745, 2685, 2751]"
      ]
     },
     "execution_count": 50,
     "metadata": {},
     "output_type": "execute_result"
    }
   ],
   "source": [
    "get_hybrid_recommendations(311, 1197, 10)"
   ]
  },
  {
   "cell_type": "code",
   "execution_count": null,
   "id": "890156e7",
   "metadata": {},
   "outputs": [],
   "source": []
  }
 ],
 "metadata": {
  "kernelspec": {
   "display_name": "Python 3 (ipykernel)",
   "language": "python",
   "name": "python3"
  },
  "language_info": {
   "codemirror_mode": {
    "name": "ipython",
    "version": 3
   },
   "file_extension": ".py",
   "mimetype": "text/x-python",
   "name": "python",
   "nbconvert_exporter": "python",
   "pygments_lexer": "ipython3",
   "version": "3.10.9"
  }
 },
 "nbformat": 4,
 "nbformat_minor": 5
}
