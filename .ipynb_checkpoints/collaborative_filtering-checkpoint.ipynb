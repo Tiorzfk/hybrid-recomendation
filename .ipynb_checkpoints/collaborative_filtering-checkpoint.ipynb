{
 "cells": [
  {
   "cell_type": "code",
   "execution_count": 3,
   "id": "09cf5d6b",
   "metadata": {},
   "outputs": [],
   "source": [
    "import numpy as np\n",
    "import pandas as pd\n",
    "import seaborn as sns\n",
    "import matplotlib.pyplot as plt\n",
    "import surprise\n",
    "from surprise import SVD\n",
    "from surprise import accuracy\n",
    "from surprise.model_selection import train_test_split\n",
    "from surprise import Reader, Dataset\n",
    "from surprise import KNNBasic"
   ]
  },
  {
   "cell_type": "code",
   "execution_count": 4,
   "id": "3bf3e9d5",
   "metadata": {},
   "outputs": [],
   "source": [
    "rating = pd.read_csv(\"EBOOK-RATING-WITH-USERS-AND-TITLE.csv\", delimiter=\";\")"
   ]
  },
  {
   "cell_type": "code",
   "execution_count": 6,
   "id": "c3b8304b",
   "metadata": {
    "scrolled": true
   },
   "outputs": [
    {
     "data": {
      "text/html": [
       "<div>\n",
       "<style scoped>\n",
       "    .dataframe tbody tr th:only-of-type {\n",
       "        vertical-align: middle;\n",
       "    }\n",
       "\n",
       "    .dataframe tbody tr th {\n",
       "        vertical-align: top;\n",
       "    }\n",
       "\n",
       "    .dataframe thead th {\n",
       "        text-align: right;\n",
       "    }\n",
       "</style>\n",
       "<table border=\"1\" class=\"dataframe\">\n",
       "  <thead>\n",
       "    <tr style=\"text-align: right;\">\n",
       "      <th></th>\n",
       "      <th>id</th>\n",
       "      <th>judul</th>\n",
       "      <th>deskripsi</th>\n",
       "      <th>user_id</th>\n",
       "      <th>rating</th>\n",
       "    </tr>\n",
       "  </thead>\n",
       "  <tbody>\n",
       "    <tr>\n",
       "      <th>0</th>\n",
       "      <td>1197</td>\n",
       "      <td>EDEN IN THE EAST SURGA DI TIMUR,STEPHEN OPPENH...</td>\n",
       "      <td>Buku ini diterbitkan untuk menambah wawasan pa...</td>\n",
       "      <td>311</td>\n",
       "      <td>5.0</td>\n",
       "    </tr>\n",
       "    <tr>\n",
       "      <th>1</th>\n",
       "      <td>1209</td>\n",
       "      <td>24416 NASKAH DEPARTEMEN TENTANG MATA KULIAH MA...</td>\n",
       "      <td>Buku ini diterbitkan untuk menambah wawasan pa...</td>\n",
       "      <td>1631</td>\n",
       "      <td>4.0</td>\n",
       "    </tr>\n",
       "    <tr>\n",
       "      <th>2</th>\n",
       "      <td>1210</td>\n",
       "      <td>24418 NASKAH DEPARTEMEN TENTANG MATA KULIAH MA...</td>\n",
       "      <td>Buku ini diterbitkan untuk menambah wawasan pa...</td>\n",
       "      <td>1631</td>\n",
       "      <td>5.0</td>\n",
       "    </tr>\n",
       "    <tr>\n",
       "      <th>3</th>\n",
       "      <td>1234</td>\n",
       "      <td>BUKU PETUNJUK PELAKSANAAN PEDOMAN PENGAMANAN P...</td>\n",
       "      <td>Buku ini diterbitkan untuk menambah wawasan pa...</td>\n",
       "      <td>1994</td>\n",
       "      <td>2.0</td>\n",
       "    </tr>\n",
       "    <tr>\n",
       "      <th>4</th>\n",
       "      <td>1236</td>\n",
       "      <td>BUKU PETUNJUK PELAKSANAAN PEDOMAN PENYIAPAN SA...</td>\n",
       "      <td>Buku ini diterbitkan untuk menambah wawasan pa...</td>\n",
       "      <td>3090</td>\n",
       "      <td>5.0</td>\n",
       "    </tr>\n",
       "  </tbody>\n",
       "</table>\n",
       "</div>"
      ],
      "text/plain": [
       "     id                                              judul  \\\n",
       "0  1197  EDEN IN THE EAST SURGA DI TIMUR,STEPHEN OPPENH...   \n",
       "1  1209  24416 NASKAH DEPARTEMEN TENTANG MATA KULIAH MA...   \n",
       "2  1210  24418 NASKAH DEPARTEMEN TENTANG MATA KULIAH MA...   \n",
       "3  1234  BUKU PETUNJUK PELAKSANAAN PEDOMAN PENGAMANAN P...   \n",
       "4  1236  BUKU PETUNJUK PELAKSANAAN PEDOMAN PENYIAPAN SA...   \n",
       "\n",
       "                                           deskripsi  user_id  rating  \n",
       "0  Buku ini diterbitkan untuk menambah wawasan pa...      311     5.0  \n",
       "1  Buku ini diterbitkan untuk menambah wawasan pa...     1631     4.0  \n",
       "2  Buku ini diterbitkan untuk menambah wawasan pa...     1631     5.0  \n",
       "3  Buku ini diterbitkan untuk menambah wawasan pa...     1994     2.0  \n",
       "4  Buku ini diterbitkan untuk menambah wawasan pa...     3090     5.0  "
      ]
     },
     "execution_count": 6,
     "metadata": {},
     "output_type": "execute_result"
    }
   ],
   "source": [
    "rating.head()"
   ]
  },
  {
   "cell_type": "raw",
   "id": "d323272b",
   "metadata": {},
   "source": []
  },
  {
   "cell_type": "code",
   "execution_count": 7,
   "id": "c6e53488",
   "metadata": {},
   "outputs": [
    {
     "data": {
      "text/html": [
       "<div>\n",
       "<style scoped>\n",
       "    .dataframe tbody tr th:only-of-type {\n",
       "        vertical-align: middle;\n",
       "    }\n",
       "\n",
       "    .dataframe tbody tr th {\n",
       "        vertical-align: top;\n",
       "    }\n",
       "\n",
       "    .dataframe thead th {\n",
       "        text-align: right;\n",
       "    }\n",
       "</style>\n",
       "<table border=\"1\" class=\"dataframe\">\n",
       "  <thead>\n",
       "    <tr style=\"text-align: right;\">\n",
       "      <th></th>\n",
       "      <th>id</th>\n",
       "      <th>user_id</th>\n",
       "      <th>rating</th>\n",
       "    </tr>\n",
       "  </thead>\n",
       "  <tbody>\n",
       "    <tr>\n",
       "      <th>count</th>\n",
       "      <td>1194.000000</td>\n",
       "      <td>1194.00000</td>\n",
       "      <td>1194.000000</td>\n",
       "    </tr>\n",
       "    <tr>\n",
       "      <th>mean</th>\n",
       "      <td>4084.902010</td>\n",
       "      <td>2451.91876</td>\n",
       "      <td>4.859296</td>\n",
       "    </tr>\n",
       "    <tr>\n",
       "      <th>std</th>\n",
       "      <td>1672.536732</td>\n",
       "      <td>651.20833</td>\n",
       "      <td>0.435593</td>\n",
       "    </tr>\n",
       "    <tr>\n",
       "      <th>min</th>\n",
       "      <td>1197.000000</td>\n",
       "      <td>276.00000</td>\n",
       "      <td>1.000000</td>\n",
       "    </tr>\n",
       "    <tr>\n",
       "      <th>25%</th>\n",
       "      <td>2281.250000</td>\n",
       "      <td>1860.25000</td>\n",
       "      <td>5.000000</td>\n",
       "    </tr>\n",
       "    <tr>\n",
       "      <th>50%</th>\n",
       "      <td>4724.000000</td>\n",
       "      <td>2962.00000</td>\n",
       "      <td>5.000000</td>\n",
       "    </tr>\n",
       "    <tr>\n",
       "      <th>75%</th>\n",
       "      <td>5581.000000</td>\n",
       "      <td>3044.00000</td>\n",
       "      <td>5.000000</td>\n",
       "    </tr>\n",
       "    <tr>\n",
       "      <th>max</th>\n",
       "      <td>5785.000000</td>\n",
       "      <td>3156.00000</td>\n",
       "      <td>5.000000</td>\n",
       "    </tr>\n",
       "  </tbody>\n",
       "</table>\n",
       "</div>"
      ],
      "text/plain": [
       "                id     user_id       rating\n",
       "count  1194.000000  1194.00000  1194.000000\n",
       "mean   4084.902010  2451.91876     4.859296\n",
       "std    1672.536732   651.20833     0.435593\n",
       "min    1197.000000   276.00000     1.000000\n",
       "25%    2281.250000  1860.25000     5.000000\n",
       "50%    4724.000000  2962.00000     5.000000\n",
       "75%    5581.000000  3044.00000     5.000000\n",
       "max    5785.000000  3156.00000     5.000000"
      ]
     },
     "execution_count": 7,
     "metadata": {},
     "output_type": "execute_result"
    }
   ],
   "source": [
    "rating.describe()"
   ]
  },
  {
   "cell_type": "code",
   "execution_count": 9,
   "id": "2209207a",
   "metadata": {},
   "outputs": [
    {
     "data": {
      "text/plain": [
       "5.0    1061\n",
       "4.0     103\n",
       "3.0      26\n",
       "2.0       3\n",
       "1.0       1\n",
       "Name: rating, dtype: int64"
      ]
     },
     "execution_count": 9,
     "metadata": {},
     "output_type": "execute_result"
    }
   ],
   "source": [
    "rev_rating = rating['rating'].value_counts()\n",
    "rev_rating"
   ]
  },
  {
   "cell_type": "code",
   "execution_count": 10,
   "id": "08638993",
   "metadata": {},
   "outputs": [
    {
     "data": {
      "image/png": "[encoded data removed]",
      "text/plain": [
       "<Figure size 1000x800 with 1 Axes>"
      ]
     },
     "metadata": {},
     "output_type": "display_data"
    }
   ],
   "source": [
    "dims = (10, 8)\n",
    "fig, ax = plt.subplots(figsize=dims)\n",
    "ax = sns.countplot(x=\"rating\", data=rating)"
   ]
  },
  {
   "cell_type": "code",
   "execution_count": 14,
   "id": "86205819",
   "metadata": {},
   "outputs": [],
   "source": [
    "reader = Reader()\n",
    "data = Dataset.load_from_df(rating[['id', 'user_id', 'rating']], reader)"
   ]
  },
  {
   "cell_type": "code",
   "execution_count": 15,
   "id": "858ce186",
   "metadata": {},
   "outputs": [
    {
     "data": {
      "text/plain": [
       "<surprise.dataset.DatasetAutoFolds at 0x13768cf40>"
      ]
     },
     "execution_count": 15,
     "metadata": {},
     "output_type": "execute_result"
    }
   ],
   "source": [
    "data"
   ]
  },
  {
   "cell_type": "code",
   "execution_count": 16,
   "id": "cd6a110a",
   "metadata": {},
   "outputs": [],
   "source": [
    "#Train : Test = 80:20\n",
    "from surprise.model_selection import train_test_split\n",
    "\n",
    "trainset, testset = train_test_split(data, test_size=0.20, random_state=50)"
   ]
  },
  {
   "cell_type": "code",
   "execution_count": 17,
   "id": "4e2042a5",
   "metadata": {},
   "outputs": [
    {
     "name": "stdout",
     "output_type": "stream",
     "text": [
      "Estimating biases using als...\n",
      "Computing the pearson_baseline similarity matrix...\n",
      "Done computing similarity matrix.\n"
     ]
    }
   ],
   "source": [
    "#KNN with pearson similarity\n",
    "sim_options = {'name': 'pearson_baseline','shrinkage': 0}\n",
    "algo = KNNBasic(sim_options=sim_options)\n",
    "algo_knn = KNNBasic(k=50, sim_options=sim_options)\n",
    "prediction_knn = algo_knn.fit(trainset).test(testset)"
   ]
  },
  {
   "cell_type": "code",
   "execution_count": 34,
   "id": "227d9f09",
   "metadata": {},
   "outputs": [
    {
     "ename": "AttributeError",
     "evalue": "'list' object has no attribute 'len'",
     "output_type": "error",
     "traceback": [
      "\u001b[0;31m---------------------------------------------------------------------------\u001b[0m",
      "\u001b[0;31mAttributeError\u001b[0m                            Traceback (most recent call last)",
      "Cell \u001b[0;32mIn[34], line 1\u001b[0m\n\u001b[0;32m----> 1\u001b[0m \u001b[43mprediction_knn\u001b[49m\u001b[38;5;241;43m.\u001b[39;49m\u001b[43mlen\u001b[49m\n",
      "\u001b[0;31mAttributeError\u001b[0m: 'list' object has no attribute 'len'"
     ]
    }
   ],
   "source": [
    "prediction_knn"
   ]
  },
  {
   "cell_type": "code",
   "execution_count": 33,
   "id": "9cbb148f",
   "metadata": {},
   "outputs": [
    {
     "data": {
      "text/plain": [
       "Prediction(uid=4841, iid=3042, r_ui=4.0, est=5, details={'actual_k': 5, 'was_impossible': False})"
      ]
     },
     "execution_count": 33,
     "metadata": {},
     "output_type": "execute_result"
    }
   ],
   "source": [
    "# Tes rekomendasinya\n",
    "recom_knn = algo_knn.predict(uid=4841,iid=3042, r_ui=4.0)\n",
    "recom_knn"
   ]
  },
  {
   "cell_type": "code",
   "execution_count": null,
   "id": "cecb8ebc",
   "metadata": {},
   "outputs": [],
   "source": []
  }
 ],
 "metadata": {
  "kernelspec": {
   "display_name": "Python 3 (ipykernel)",
   "language": "python",
   "name": "python3"
  },
  "language_info": {
   "codemirror_mode": {
    "name": "ipython",
    "version": 3
   },
   "file_extension": ".py",
   "mimetype": "text/x-python",
   "name": "python",
   "nbconvert_exporter": "python",
   "pygments_lexer": "ipython3",
   "version": "3.10.9"
  }
 },
 "nbformat": 4,
 "nbformat_minor": 5
}
