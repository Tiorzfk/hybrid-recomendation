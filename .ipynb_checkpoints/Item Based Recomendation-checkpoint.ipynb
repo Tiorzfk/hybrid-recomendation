{
 "cells": [
  {
   "cell_type": "code",
   "execution_count": 1,
   "id": "6568c7ea",
   "metadata": {},
   "outputs": [],
   "source": [
    "import pandas as pd"
   ]
  },
  {
   "cell_type": "code",
   "execution_count": 46,
   "id": "0e055127",
   "metadata": {},
   "outputs": [],
   "source": [
    "df = pd.read_csv(\"EBOOK-RATING-WITH-USERS-AND-TITLE.csv\", delimiter=\";\")"
   ]
  },
  {
   "cell_type": "code",
   "execution_count": 47,
   "id": "d4cfdda4",
   "metadata": {},
   "outputs": [
    {
     "data": {
      "text/plain": [
       "(1194, 5)"
      ]
     },
     "execution_count": 47,
     "metadata": {},
     "output_type": "execute_result"
    }
   ],
   "source": [
    "df.shape"
   ]
  },
  {
   "cell_type": "code",
   "execution_count": 48,
   "id": "28895f5a",
   "metadata": {},
   "outputs": [
    {
     "data": {
      "text/html": [
       "<div>\n",
       "<style scoped>\n",
       "    .dataframe tbody tr th:only-of-type {\n",
       "        vertical-align: middle;\n",
       "    }\n",
       "\n",
       "    .dataframe tbody tr th {\n",
       "        vertical-align: top;\n",
       "    }\n",
       "\n",
       "    .dataframe thead th {\n",
       "        text-align: right;\n",
       "    }\n",
       "</style>\n",
       "<table border=\"1\" class=\"dataframe\">\n",
       "  <thead>\n",
       "    <tr style=\"text-align: right;\">\n",
       "      <th></th>\n",
       "      <th>id</th>\n",
       "      <th>judul</th>\n",
       "      <th>deskripsi</th>\n",
       "      <th>user_id</th>\n",
       "      <th>rating</th>\n",
       "    </tr>\n",
       "  </thead>\n",
       "  <tbody>\n",
       "    <tr>\n",
       "      <th>0</th>\n",
       "      <td>1197</td>\n",
       "      <td>EDEN IN THE EAST SURGA DI TIMUR,STEPHEN OPPENH...</td>\n",
       "      <td>Buku ini diterbitkan untuk menambah wawasan pa...</td>\n",
       "      <td>311</td>\n",
       "      <td>5.0</td>\n",
       "    </tr>\n",
       "    <tr>\n",
       "      <th>1</th>\n",
       "      <td>1209</td>\n",
       "      <td>24416 NASKAH DEPARTEMEN TENTANG MATA KULIAH MA...</td>\n",
       "      <td>Buku ini diterbitkan untuk menambah wawasan pa...</td>\n",
       "      <td>1631</td>\n",
       "      <td>4.0</td>\n",
       "    </tr>\n",
       "    <tr>\n",
       "      <th>2</th>\n",
       "      <td>1210</td>\n",
       "      <td>24418 NASKAH DEPARTEMEN TENTANG MATA KULIAH MA...</td>\n",
       "      <td>Buku ini diterbitkan untuk menambah wawasan pa...</td>\n",
       "      <td>1631</td>\n",
       "      <td>5.0</td>\n",
       "    </tr>\n",
       "    <tr>\n",
       "      <th>3</th>\n",
       "      <td>1234</td>\n",
       "      <td>BUKU PETUNJUK PELAKSANAAN PEDOMAN PENGAMANAN P...</td>\n",
       "      <td>Buku ini diterbitkan untuk menambah wawasan pa...</td>\n",
       "      <td>1994</td>\n",
       "      <td>2.0</td>\n",
       "    </tr>\n",
       "    <tr>\n",
       "      <th>4</th>\n",
       "      <td>1236</td>\n",
       "      <td>BUKU PETUNJUK PELAKSANAAN PEDOMAN PENYIAPAN SA...</td>\n",
       "      <td>Buku ini diterbitkan untuk menambah wawasan pa...</td>\n",
       "      <td>3090</td>\n",
       "      <td>5.0</td>\n",
       "    </tr>\n",
       "  </tbody>\n",
       "</table>\n",
       "</div>"
      ],
      "text/plain": [
       "     id                                              judul  \\\n",
       "0  1197  EDEN IN THE EAST SURGA DI TIMUR,STEPHEN OPPENH...   \n",
       "1  1209  24416 NASKAH DEPARTEMEN TENTANG MATA KULIAH MA...   \n",
       "2  1210  24418 NASKAH DEPARTEMEN TENTANG MATA KULIAH MA...   \n",
       "3  1234  BUKU PETUNJUK PELAKSANAAN PEDOMAN PENGAMANAN P...   \n",
       "4  1236  BUKU PETUNJUK PELAKSANAAN PEDOMAN PENYIAPAN SA...   \n",
       "\n",
       "                                           deskripsi  user_id  rating  \n",
       "0  Buku ini diterbitkan untuk menambah wawasan pa...      311     5.0  \n",
       "1  Buku ini diterbitkan untuk menambah wawasan pa...     1631     4.0  \n",
       "2  Buku ini diterbitkan untuk menambah wawasan pa...     1631     5.0  \n",
       "3  Buku ini diterbitkan untuk menambah wawasan pa...     1994     2.0  \n",
       "4  Buku ini diterbitkan untuk menambah wawasan pa...     3090     5.0  "
      ]
     },
     "execution_count": 48,
     "metadata": {},
     "output_type": "execute_result"
    }
   ],
   "source": [
    "df.head()"
   ]
  },
  {
   "cell_type": "code",
   "execution_count": 49,
   "id": "3a94f723",
   "metadata": {},
   "outputs": [
    {
     "data": {
      "text/plain": [
       "571"
      ]
     },
     "execution_count": 49,
     "metadata": {},
     "output_type": "execute_result"
    }
   ],
   "source": [
    "df[\"id\"].nunique()"
   ]
  },
  {
   "cell_type": "code",
   "execution_count": 50,
   "id": "5a09de31",
   "metadata": {},
   "outputs": [
    {
     "data": {
      "text/plain": [
       "10 Kisah Genocide                                               53\n",
       "Obrolan Nusantara: Menyambut Indonesia\"\"                        36\n",
       "100 Pemimpin Militer yang Berpengaruh di Dalam Sejarah Dunia    30\n",
       "10 SECRETS OF SUCCESSFUL LEADERS                                29\n",
       "DAR MEMBONGKAR OPERASI PSIKOLOGI GERAKAN INTOLERANSI            27\n",
       "Name: judul, dtype: int64"
      ]
     },
     "execution_count": 50,
     "metadata": {},
     "output_type": "execute_result"
    }
   ],
   "source": [
    "df[\"judul\"].value_counts().head()"
   ]
  },
  {
   "cell_type": "code",
   "execution_count": 51,
   "id": "0b325ecf",
   "metadata": {},
   "outputs": [
    {
     "data": {
      "text/plain": [
       "(779, 5)"
      ]
     },
     "execution_count": 51,
     "metadata": {},
     "output_type": "execute_result"
    }
   ],
   "source": [
    "# Let's get to the book with less than 1 rating:\n",
    "comment_counts = pd.DataFrame(df[\"judul\"].value_counts())\n",
    "rare_book = comment_counts[comment_counts[\"judul\"] <= 1].index\n",
    "\n",
    "# Let's get access to book with over 1 rating:\n",
    "common_books = df[~df[\"judul\"].isin(rare_book)]\n",
    "common_books.shape"
   ]
  },
  {
   "cell_type": "code",
   "execution_count": 52,
   "id": "217917da",
   "metadata": {},
   "outputs": [
    {
     "data": {
      "text/plain": [
       "154"
      ]
     },
     "execution_count": 52,
     "metadata": {},
     "output_type": "execute_result"
    }
   ],
   "source": [
    "# Unique book with more than 5 reviews:\n",
    "common_books[\"judul\"].nunique()"
   ]
  },
  {
   "cell_type": "code",
   "execution_count": 53,
   "id": "ad573789",
   "metadata": {},
   "outputs": [
    {
     "data": {
      "text/plain": [
       "(161, 154)"
      ]
     },
     "execution_count": 53,
     "metadata": {},
     "output_type": "execute_result"
    }
   ],
   "source": [
    "# Let's create the User Book Df:\n",
    "user_book_df = common_books.pivot_table(index=[\"user_id\"], columns=[\"judul\"], values=\"rating\")\n",
    "\n",
    "# There are 161 movies that 154 users have rated for. \n",
    "user_book_df.shape"
   ]
  },
  {
   "cell_type": "code",
   "execution_count": null,
   "id": "5155bed6",
   "metadata": {},
   "outputs": [],
   "source": []
  }
 ],
 "metadata": {
  "kernelspec": {
   "display_name": "Python 3 (ipykernel)",
   "language": "python",
   "name": "python3"
  },
  "language_info": {
   "codemirror_mode": {
    "name": "ipython",
    "version": 3
   },
   "file_extension": ".py",
   "mimetype": "text/x-python",
   "name": "python",
   "nbconvert_exporter": "python",
   "pygments_lexer": "ipython3",
   "version": "3.10.9"
  }
 },
 "nbformat": 4,
 "nbformat_minor": 5
}
